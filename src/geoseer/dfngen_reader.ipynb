{
 "cells": [
  {
   "cell_type": "markdown",
   "source": [
    "\n",
    "## Import DFN data"
   ],
   "metadata": {
    "collapsed": false,
    "pycharm": {
     "name": "#%% md\n"
    }
   }
  },
  {
   "cell_type": "code",
   "execution_count": 2,
   "outputs": [
    {
     "name": "stdout",
     "output_type": "stream",
     "text": [
      "['FracNo\\tSet\\tIPlusHalfLength\\tIMinusHalfLength\\tNumber of points\\tDip\\tIPlusTipType\\tIMinusTipType\\tIPlusTerminatingFracture\\tIMinusTerminatingFracture\\tNucleation time (ma)\\t\\n', '2\\tHMin\\t15.4504880753581\\t4.54951192464191\\t4\\t1.01722196789785\\tOutOfBounds\\tOutOfBounds\\t0\\t0\\t0.143460104322922\\t\\n', 'Start Points\\n', '-4.05685508126982E-18\\t11.6253526050715\\t2003\\t\\n', '4.54951192464191\\t11.6253526050715\\t2003\\t\\n', '10\\t11.6253526050715\\t2003\\t\\n', '20\\t11.6253526050715\\t2003\\t\\n', 'End Points\\n', '3\\tHMin\\t1.00195544818507\\t18.9980445518149\\t4\\t1.01722196789785\\tOutOfBounds\\tOutOfBounds\\t0\\t0\\t0.143623295774694\\t\\n', 'Start Points\\n', '4.22819430501985E-18\\t3.55732942165682\\t2003\\t\\n', '10\\t3.55732942165682\\t2003\\t\\n', '18.9980445518149\\t3.55732942165683\\t2003\\t\\n', '20\\t3.55732942165683\\t2003\\t\\n', 'End Points\\n', '4\\tHMin\\t5.53395193327868\\t14.4660480667213\\t4\\t1.01722196789785\\tOutOfBounds\\tOutOfBounds\\t0\\t0\\t0.143668673080659\\t\\n', 'Start Points\\n', '-1.87824992665333E-17\\t18.4386683993222\\t2003\\t\\n', '10\\t18.4386683993222\\t2003\\t\\n', '14.4660480667213\\t18.4386683993222\\t2003\\t\\n', '20\\t18.4386683993222\\t2003\\t\\n', 'End Points\\n', '6\\tHMax\\t6.62293092190424\\t1.44509226151048\\t4\\t1.01722196789785\\tIntersection\\tIntersection\\t2\\t3\\t0.573851076308996\\t\\n', 'Start Points\\n', '5.21680651475527\\t3.55732942165682\\t2003\\t\\n', '5.21680651475527\\t5.0024216831673\\t2003\\t\\n', '5.21680651475527\\t10\\t2003\\t\\n', '5.21680651475527\\t11.6253526050715\\t2003\\t\\n', 'End Points\\n', '5\\tHMax\\t0.388726382697339\\t6.42458941155327\\t3\\t1.01722196789785\\tIntersection\\tIntersection\\t4\\t2\\t0.573748697052611\\t\\n', 'Start Points\\n', '3.17994487154295\\t11.6253526050715\\t2003\\t\\n', '3.17994487154295\\t18.0499420166248\\t2003\\t\\n', '3.17994487154295\\t18.4386683993222\\t2003\\t\\n', 'End Points\\n', '7\\tHMax\\t1.58797205034083\\t5.22534374390978\\t3\\t1.01722196789785\\tIntersection\\tIntersection\\t4\\t2\\t0.574672640755578\\t\\n', 'Start Points\\n', '14.5659772514207\\t11.6253526050715\\t2003\\t\\n', '14.5659772514207\\t16.8506963489813\\t2003\\t\\n', '14.5659772514207\\t18.4386683993222\\t2003\\t\\n', 'End Points\\n', '9\\tHMax\\t0.0511317420988942\\t3.50619767955793\\t3\\t1.01722196789785\\tIntersection\\tOutOfBounds\\t3\\t0\\t0.574753377692048\\t\\n', 'Start Points\\n', '15.847308512706\\t0\\t2003\\t\\n', '15.847308512706\\t3.50619767955793\\t2003\\t\\n', '15.847308512706\\t3.55732942165682\\t2003\\t\\n', 'End Points\\n', '8\\tHMax\\t0.740961935716198\\t2.27310997074149\\t3\\t1.01722196789785\\tStressShadow\\tIntersection\\t1\\t2\\t0.574730592736459\\t\\n', 'Start Points\\n', '10.1210597577137\\t11.6253526050715\\t2003\\t\\n', '10.1210597577137\\t13.898462575813\\t2003\\t\\n', '10.1210597577137\\t14.6394245115292\\t2003\\t\\n', 'End Points\\n']\n"
     ]
    }
   ],
   "source": [
    "import hashlib\n",
    "#md5_hash = hashlib.md5()\n",
    "\n",
    "# MFCentrepoints_final.txt\n",
    "root = \"C:\\\\Users\\\\simold\\\\Documents\\\\git\\\\geoseer\\\\data\\\\DFNGEN\\\\\"\n",
    "fn = \"MFCentrepoints_final.txt\"\n",
    "\n",
    "\n",
    "file = root+fn\n",
    "\n",
    "with open(file) as f:\n",
    "    #f_data = f.read()\n",
    "    #file_hash = hashlib.md5(f_data.encode())\n",
    "    f_data = f.readlines()\n",
    "\n",
    "#print(file_hash.hexdigest())\n",
    "\n",
    "hdrs = ['FracNo',\n",
    "        'Set',\n",
    "        'IPlusHalfLength',\n",
    "        'IMinusHalfLength',\n",
    "        'Number of points',\n",
    "        'Dip',\n",
    "        'IPlusTipType',\n",
    "        'IMinusTipType',\n",
    "        'IPlusTerminatingFracture',\n",
    "        'IMinusTerminatingFracture',\n",
    "        'Nucleation time (ma)'\n",
    "        ]\n",
    "\n",
    "start_rec = \"Start Points\"\n",
    "end_rec = \"End Points\"\n",
    "\n",
    "\n",
    "print(f_data)"
   ],
   "metadata": {
    "collapsed": false,
    "pycharm": {
     "name": "#%%\n"
    }
   }
  },
  {
   "cell_type": "code",
   "execution_count": 3,
   "outputs": [
    {
     "name": "stdout",
     "output_type": "stream",
     "text": [
      "53\n"
     ]
    }
   ],
   "source": [
    "print(len(f_data))\n",
    "\n",
    "fxls = []\n",
    "\n",
    "for line in f_data:\n",
    "    line = line.strip().split('\\t')\n",
    "    fxls.append(line)\n",
    "\n"
   ],
   "metadata": {
    "collapsed": false,
    "pycharm": {
     "name": "#%%\n"
    }
   }
  },
  {
   "cell_type": "code",
   "execution_count": 4,
   "outputs": [
    {
     "name": "stdout",
     "output_type": "stream",
     "text": [
      "['FracNo', 'Set', 'IPlusHalfLength', 'IMinusHalfLength', 'Number of points', 'Dip', 'IPlusTipType', 'IMinusTipType', 'IPlusTerminatingFracture', 'IMinusTerminatingFracture', 'Nucleation time (ma)']\n"
     ]
    }
   ],
   "source": [
    "hdr = fxls[0]\n",
    "\n",
    "fx_db = []\n",
    "\n",
    "print(hdr)"
   ],
   "metadata": {
    "collapsed": false,
    "pycharm": {
     "name": "#%%\n"
    }
   }
  },
  {
   "cell_type": "markdown",
   "source": [
    "Bring in individual fracture records and develop a database."
   ],
   "metadata": {
    "collapsed": false,
    "pycharm": {
     "name": "#%% md\n"
    }
   }
  },
  {
   "cell_type": "code",
   "execution_count": 5,
   "outputs": [
    {
     "data": {
      "text/plain": "{0: {'FracNo': 2,\n  'Set': 'HMin',\n  'IPlusHalfLength': 15.4504880753581,\n  'IMinusHalfLength': 4.54951192464191,\n  'Number of points': 4,\n  'Dip': 1.01722196789785,\n  'IPlusTipType': 'OutOfBounds',\n  'IMinusTipType': 'OutOfBounds',\n  'IPlusTerminatingFracture': 0,\n  'IMinusTerminatingFracture': 0,\n  'Nucleation time (ma)': 0.143460104322922,\n  'Coords': array([[-4.05685508e-18,  1.16253526e+01,  2.00300000e+03],\n         [ 4.54951192e+00,  1.16253526e+01,  2.00300000e+03],\n         [ 1.00000000e+01,  1.16253526e+01,  2.00300000e+03],\n         [ 2.00000000e+01,  1.16253526e+01,  2.00300000e+03]])},\n 1: {'FracNo': 3,\n  'Set': 'HMin',\n  'IPlusHalfLength': 1.00195544818507,\n  'IMinusHalfLength': 18.9980445518149,\n  'Number of points': 4,\n  'Dip': 1.01722196789785,\n  'IPlusTipType': 'OutOfBounds',\n  'IMinusTipType': 'OutOfBounds',\n  'IPlusTerminatingFracture': 0,\n  'IMinusTerminatingFracture': 0,\n  'Nucleation time (ma)': 0.143623295774694,\n  'Coords': array([[4.22819431e-18, 3.55732942e+00, 2.00300000e+03],\n         [1.00000000e+01, 3.55732942e+00, 2.00300000e+03],\n         [1.89980446e+01, 3.55732942e+00, 2.00300000e+03],\n         [2.00000000e+01, 3.55732942e+00, 2.00300000e+03]])},\n 2: {'FracNo': 4,\n  'Set': 'HMin',\n  'IPlusHalfLength': 5.53395193327868,\n  'IMinusHalfLength': 14.4660480667213,\n  'Number of points': 4,\n  'Dip': 1.01722196789785,\n  'IPlusTipType': 'OutOfBounds',\n  'IMinusTipType': 'OutOfBounds',\n  'IPlusTerminatingFracture': 0,\n  'IMinusTerminatingFracture': 0,\n  'Nucleation time (ma)': 0.143668673080659,\n  'Coords': array([[-1.87824993e-17,  1.84386684e+01,  2.00300000e+03],\n         [ 1.00000000e+01,  1.84386684e+01,  2.00300000e+03],\n         [ 1.44660481e+01,  1.84386684e+01,  2.00300000e+03],\n         [ 2.00000000e+01,  1.84386684e+01,  2.00300000e+03]])},\n 3: {'FracNo': 6,\n  'Set': 'HMax',\n  'IPlusHalfLength': 6.62293092190424,\n  'IMinusHalfLength': 1.44509226151048,\n  'Number of points': 4,\n  'Dip': 1.01722196789785,\n  'IPlusTipType': 'Intersection',\n  'IMinusTipType': 'Intersection',\n  'IPlusTerminatingFracture': 2,\n  'IMinusTerminatingFracture': 3,\n  'Nucleation time (ma)': 0.573851076308996,\n  'Coords': array([[   5.21680651,    3.55732942, 2003.        ],\n         [   5.21680651,    5.00242168, 2003.        ],\n         [   5.21680651,   10.        , 2003.        ],\n         [   5.21680651,   11.62535261, 2003.        ]])},\n 4: {'FracNo': 5,\n  'Set': 'HMax',\n  'IPlusHalfLength': 0.388726382697339,\n  'IMinusHalfLength': 6.42458941155327,\n  'Number of points': 3,\n  'Dip': 1.01722196789785,\n  'IPlusTipType': 'Intersection',\n  'IMinusTipType': 'Intersection',\n  'IPlusTerminatingFracture': 4,\n  'IMinusTerminatingFracture': 2,\n  'Nucleation time (ma)': 0.573748697052611,\n  'Coords': array([[   3.17994487,   11.62535261, 2003.        ],\n         [   3.17994487,   18.04994202, 2003.        ],\n         [   3.17994487,   18.4386684 , 2003.        ]])},\n 5: {'FracNo': 7,\n  'Set': 'HMax',\n  'IPlusHalfLength': 1.58797205034083,\n  'IMinusHalfLength': 5.22534374390978,\n  'Number of points': 3,\n  'Dip': 1.01722196789785,\n  'IPlusTipType': 'Intersection',\n  'IMinusTipType': 'Intersection',\n  'IPlusTerminatingFracture': 4,\n  'IMinusTerminatingFracture': 2,\n  'Nucleation time (ma)': 0.574672640755578,\n  'Coords': array([[  14.56597725,   11.62535261, 2003.        ],\n         [  14.56597725,   16.85069635, 2003.        ],\n         [  14.56597725,   18.4386684 , 2003.        ]])},\n 6: {'FracNo': 9,\n  'Set': 'HMax',\n  'IPlusHalfLength': 0.0511317420988942,\n  'IMinusHalfLength': 3.50619767955793,\n  'Number of points': 3,\n  'Dip': 1.01722196789785,\n  'IPlusTipType': 'Intersection',\n  'IMinusTipType': 'OutOfBounds',\n  'IPlusTerminatingFracture': 3,\n  'IMinusTerminatingFracture': 0,\n  'Nucleation time (ma)': 0.574753377692048,\n  'Coords': array([[  15.84730851,    0.        , 2003.        ],\n         [  15.84730851,    3.50619768, 2003.        ],\n         [  15.84730851,    3.55732942, 2003.        ]])},\n 7: {'FracNo': 8,\n  'Set': 'HMax',\n  'IPlusHalfLength': 0.740961935716198,\n  'IMinusHalfLength': 2.27310997074149,\n  'Number of points': 3,\n  'Dip': 1.01722196789785,\n  'IPlusTipType': 'StressShadow',\n  'IMinusTipType': 'Intersection',\n  'IPlusTerminatingFracture': 1,\n  'IMinusTerminatingFracture': 2,\n  'Nucleation time (ma)': 0.574730592736459,\n  'Coords': array([[  10.12105976,   11.62535261, 2003.        ],\n         [  10.12105976,   13.89846258, 2003.        ],\n         [  10.12105976,   14.63942451, 2003.        ]])}}"
     },
     "execution_count": 5,
     "metadata": {},
     "output_type": "execute_result"
    }
   ],
   "source": [
    "#import hashlib\n",
    "import numpy as np\n",
    "\n",
    "\n",
    "def read_datafile(file):\n",
    "    \"\"\"\n",
    "    Open and read data from a tab-deliminated ascii file, strip and split on line endings and tabs.\n",
    "    Return list of lines.\n",
    "    :param file:\n",
    "    :return:\n",
    "    \"\"\"\n",
    "    with open(file) as f:\n",
    "    #f_data = f.read()\n",
    "        #file_hash = hashlib.md5(f.encode())\n",
    "        file_data = f.readlines()\n",
    "\n",
    "    # import file lines\n",
    "    read_data = []\n",
    "\n",
    "    for line in file_data:\n",
    "        line = line.strip().split('\\t')\n",
    "        read_data.append(line)\n",
    "    return read_data\n",
    "\n",
    "def import_macrofractures(file, fx_rep='centreline'):\n",
    "    \"\"\"\n",
    "    Function to import fracture data from output from the DFN Generator in either centreline or polygon format\n",
    "    :return: database of fractures\n",
    "    \"\"\"\n",
    "    read_data = read_datafile(file)\n",
    "\n",
    "    # build dataset\n",
    "    hdr = read_data[0]\n",
    "    len_hdr = len(hdr)\n",
    "\n",
    "    fracture_db = dict()\n",
    "    fracture_counter = 0\n",
    "\n",
    "    for line in read_data[1:]:\n",
    "        if len(line) == len_hdr:\n",
    "            fracture_db[fracture_counter] = dict()\n",
    "            for hdr_col in range(len(hdr)):\n",
    "                fracture_db[fracture_counter][hdr[hdr_col]] = line[hdr_col]\n",
    "            fracture_db[fracture_counter]['Coords'] = []\n",
    "            fracture_counter += 1\n",
    "        elif line == ['Start Points'] or line == ['End Points'] :\n",
    "            pass\n",
    "        else:\n",
    "            fracture_db[fracture_counter-1]['Coords'].append(line)\n",
    "            #fracture_db[fracture_counter]['Coords'] = line\n",
    "\n",
    "    # TODO: Manage data types\n",
    "    for key in fracture_db.keys():\n",
    "        fracture_db[key]['FracNo'] = int(fracture_db[key]['FracNo'])\n",
    "        fracture_db[key]['IPlusHalfLength'] = np.float64(fracture_db[key]['IPlusHalfLength'])\n",
    "        fracture_db[key]['IMinusHalfLength'] = np.float64(fracture_db[key]['IMinusHalfLength'])\n",
    "        fracture_db[key]['Number of points'] = int(fracture_db[key]['Number of points'])\n",
    "        fracture_db[key]['Dip'] = np.float64(fracture_db[key]['Dip'])\n",
    "        fracture_db[key]['IPlusTerminatingFracture'] = int(fracture_db[key]['IPlusTerminatingFracture'])\n",
    "        fracture_db[key]['IMinusTerminatingFracture'] = int(fracture_db[key]['IMinusTerminatingFracture'])\n",
    "        fracture_db[key]['Nucleation time (ma)'] = np.float64(fracture_db[key]['Nucleation time (ma)'])\n",
    "        fracture_db[key]['Coords'] = np.asarray(fracture_db[key]['Coords'], dtype=np.float64)\n",
    "\n",
    "    return fracture_db\n",
    "\n",
    "fracture_db = import_macrofractures(file, fx_rep='centreline')\n",
    "\n",
    "fracture_db"
   ],
   "metadata": {
    "collapsed": false,
    "pycharm": {
     "name": "#%%\n"
    }
   }
  },
  {
   "cell_type": "markdown",
   "source": [
    "Data now extracted from file, next step to generate plots of the fracture lines."
   ],
   "metadata": {
    "collapsed": false,
    "pycharm": {
     "name": "#%% md\n"
    }
   }
  },
  {
   "cell_type": "code",
   "execution_count": 6,
   "outputs": [],
   "source": [
    "import matplotlib.pyplot as plt\n",
    "from shapely.geometry import LineString\n"
   ],
   "metadata": {
    "collapsed": false,
    "pycharm": {
     "name": "#%%\n"
    }
   }
  },
  {
   "cell_type": "code",
   "execution_count": 7,
   "outputs": [
    {
     "data": {
      "text/plain": "<Figure size 432x288 with 1 Axes>",
      "image/png": "[encoded data removed]"
     },
     "metadata": {
      "needs_background": "light"
     },
     "output_type": "display_data"
    }
   ],
   "source": [
    "for key in fracture_db.keys():\n",
    "    x = fracture_db[key]['Coords'][:,0]\n",
    "    y = fracture_db[key]['Coords'][:,1]\n",
    "    plt.plot(x, y)\n",
    "\n",
    "plt.show()"
   ],
   "metadata": {
    "collapsed": false,
    "pycharm": {
     "name": "#%%\n"
    }
   }
  },
  {
   "cell_type": "code",
   "execution_count": 8,
   "outputs": [
    {
     "name": "stdout",
     "output_type": "stream",
     "text": [
      "[(-4.05685508126982e-18, 11.6253526050715), (4.54951192464191, 11.6253526050715), (10.0, 11.6253526050715), (20.0, 11.6253526050715)]\n",
      "[(4.22819430501985e-18, 3.55732942165682), (10.0, 3.55732942165682), (18.9980445518149, 3.55732942165683), (20.0, 3.55732942165683)]\n",
      "[(-1.87824992665333e-17, 18.4386683993222), (10.0, 18.4386683993222), (14.4660480667213, 18.4386683993222), (20.0, 18.4386683993222)]\n",
      "[(5.21680651475527, 3.55732942165682), (5.21680651475527, 5.0024216831673), (5.21680651475527, 10.0), (5.21680651475527, 11.6253526050715)]\n",
      "[(3.17994487154295, 11.6253526050715), (3.17994487154295, 18.0499420166248), (3.17994487154295, 18.4386683993222)]\n",
      "[(14.5659772514207, 11.6253526050715), (14.5659772514207, 16.8506963489813), (14.5659772514207, 18.4386683993222)]\n",
      "[(15.847308512706, 0.0), (15.847308512706, 3.50619767955793), (15.847308512706, 3.55732942165682)]\n",
      "[(10.1210597577137, 11.6253526050715), (10.1210597577137, 13.898462575813), (10.1210597577137, 14.6394245115292)]\n"
     ]
    }
   ],
   "source": [
    "for key in fracture_db.keys():\n",
    "    x = fracture_db[key]['Coords'][:,0]\n",
    "    y = fracture_db[key]['Coords'][:,1]\n",
    "    print(list(zip(x,y)))"
   ],
   "metadata": {
    "collapsed": false,
    "pycharm": {
     "name": "#%%\n"
    }
   }
  },
  {
   "cell_type": "markdown",
   "source": [
    "Currently location data is stored as coordinates, need to convert this to a unified list of vertices.\n",
    "Afterwards, then screen vertices for those that are too close to one another."
   ],
   "metadata": {
    "collapsed": false,
    "pycharm": {
     "name": "#%% md\n"
    }
   }
  },
  {
   "cell_type": "code",
   "execution_count": 9,
   "outputs": [
    {
     "data": {
      "text/plain": "<Figure size 432x288 with 1 Axes>",
      "image/png": "[encoded data removed]"
     },
     "metadata": {
      "needs_background": "light"
     },
     "output_type": "display_data"
    }
   ],
   "source": [
    "\n",
    "for key in fracture_db.keys():\n",
    "    x = fracture_db[key]['Coords'][:,0]\n",
    "    y = fracture_db[key]['Coords'][:,1]\n",
    "    plt.plot(x, y)\n",
    "    for i in range(len(x)):\n",
    "        plt.plot(x[i], y[i], 'x')\n",
    "\n",
    "plt.show()"
   ],
   "metadata": {
    "collapsed": false,
    "pycharm": {
     "name": "#%%\n"
    }
   }
  },
  {
   "cell_type": "markdown",
   "source": [
    "Label vertices by type and with unique reference"
   ],
   "metadata": {
    "collapsed": false,
    "pycharm": {
     "name": "#%% md\n"
    }
   }
  },
  {
   "cell_type": "code",
   "execution_count": 10,
   "outputs": [
    {
     "name": "stdout",
     "output_type": "stream",
     "text": [
      "[0, 1, 2, 3] True\n",
      "[4, 5, 6, 7] True\n",
      "[8, 9, 10, 11] True\n",
      "[12, 13, 14, 15] True\n",
      "[16, 17, 18] True\n",
      "[19, 20, 21] True\n",
      "[22, 23, 24] True\n",
      "[25, 26, 27] True\n"
     ]
    }
   ],
   "source": [
    "\n",
    "def del_vt_labels(fracture_database):\n",
    "    \"\"\"\n",
    "    Deletes all vertex labels in a fracture database.\n",
    "    :param fracture_database:\n",
    "    :return:\n",
    "    \"\"\"\n",
    "    for key in fracture_db.keys():\n",
    "        fracture_db[key]['vt_id'] = []\n",
    "\n",
    "del_vt_labels(fracture_db)\n",
    "\n",
    "\n",
    "#for key in fracture_db.keys():\n",
    "#    print(fracture_db[key]['vt_labels'])\n",
    "# add labels for the vertices\n",
    "\n",
    "# label fracture network vertices\n",
    "\n",
    "vt_i = 0\n",
    "fracture_db[key]['vt_id'] = []\n",
    "\n",
    "for key in fracture_db.keys():\n",
    "    vertex_count = len(fracture_db[key]['Coords'])\n",
    "    for count in range(vertex_count):\n",
    "        fracture_db[key]['vt_id'].append(vt_i)\n",
    "        vt_i += 1\n",
    "\n",
    "    # testing length of ids equals length of coordinates\n",
    "    print(fracture_db[key]['vt_id'], len(fracture_db[key]['vt_id'])==len(fracture_db[key]['Coords']))"
   ],
   "metadata": {
    "collapsed": false,
    "pycharm": {
     "name": "#%%\n"
    }
   }
  },
  {
   "cell_type": "code",
   "execution_count": 11,
   "outputs": [
    {
     "data": {
      "text/plain": "{0: {'FracNo': 2,\n  'Set': 'HMin',\n  'IPlusHalfLength': 15.4504880753581,\n  'IMinusHalfLength': 4.54951192464191,\n  'Number of points': 4,\n  'Dip': 1.01722196789785,\n  'IPlusTipType': 'OutOfBounds',\n  'IMinusTipType': 'OutOfBounds',\n  'IPlusTerminatingFracture': 0,\n  'IMinusTerminatingFracture': 0,\n  'Nucleation time (ma)': 0.143460104322922,\n  'Coords': array([[-4.05685508e-18,  1.16253526e+01,  2.00300000e+03],\n         [ 4.54951192e+00,  1.16253526e+01,  2.00300000e+03],\n         [ 1.00000000e+01,  1.16253526e+01,  2.00300000e+03],\n         [ 2.00000000e+01,  1.16253526e+01,  2.00300000e+03]]),\n  'vt_id': [0, 1, 2, 3]},\n 1: {'FracNo': 3,\n  'Set': 'HMin',\n  'IPlusHalfLength': 1.00195544818507,\n  'IMinusHalfLength': 18.9980445518149,\n  'Number of points': 4,\n  'Dip': 1.01722196789785,\n  'IPlusTipType': 'OutOfBounds',\n  'IMinusTipType': 'OutOfBounds',\n  'IPlusTerminatingFracture': 0,\n  'IMinusTerminatingFracture': 0,\n  'Nucleation time (ma)': 0.143623295774694,\n  'Coords': array([[4.22819431e-18, 3.55732942e+00, 2.00300000e+03],\n         [1.00000000e+01, 3.55732942e+00, 2.00300000e+03],\n         [1.89980446e+01, 3.55732942e+00, 2.00300000e+03],\n         [2.00000000e+01, 3.55732942e+00, 2.00300000e+03]]),\n  'vt_id': [4, 5, 6, 7]},\n 2: {'FracNo': 4,\n  'Set': 'HMin',\n  'IPlusHalfLength': 5.53395193327868,\n  'IMinusHalfLength': 14.4660480667213,\n  'Number of points': 4,\n  'Dip': 1.01722196789785,\n  'IPlusTipType': 'OutOfBounds',\n  'IMinusTipType': 'OutOfBounds',\n  'IPlusTerminatingFracture': 0,\n  'IMinusTerminatingFracture': 0,\n  'Nucleation time (ma)': 0.143668673080659,\n  'Coords': array([[-1.87824993e-17,  1.84386684e+01,  2.00300000e+03],\n         [ 1.00000000e+01,  1.84386684e+01,  2.00300000e+03],\n         [ 1.44660481e+01,  1.84386684e+01,  2.00300000e+03],\n         [ 2.00000000e+01,  1.84386684e+01,  2.00300000e+03]]),\n  'vt_id': [8, 9, 10, 11]},\n 3: {'FracNo': 6,\n  'Set': 'HMax',\n  'IPlusHalfLength': 6.62293092190424,\n  'IMinusHalfLength': 1.44509226151048,\n  'Number of points': 4,\n  'Dip': 1.01722196789785,\n  'IPlusTipType': 'Intersection',\n  'IMinusTipType': 'Intersection',\n  'IPlusTerminatingFracture': 2,\n  'IMinusTerminatingFracture': 3,\n  'Nucleation time (ma)': 0.573851076308996,\n  'Coords': array([[   5.21680651,    3.55732942, 2003.        ],\n         [   5.21680651,    5.00242168, 2003.        ],\n         [   5.21680651,   10.        , 2003.        ],\n         [   5.21680651,   11.62535261, 2003.        ]]),\n  'vt_id': [12, 13, 14, 15]},\n 4: {'FracNo': 5,\n  'Set': 'HMax',\n  'IPlusHalfLength': 0.388726382697339,\n  'IMinusHalfLength': 6.42458941155327,\n  'Number of points': 3,\n  'Dip': 1.01722196789785,\n  'IPlusTipType': 'Intersection',\n  'IMinusTipType': 'Intersection',\n  'IPlusTerminatingFracture': 4,\n  'IMinusTerminatingFracture': 2,\n  'Nucleation time (ma)': 0.573748697052611,\n  'Coords': array([[   3.17994487,   11.62535261, 2003.        ],\n         [   3.17994487,   18.04994202, 2003.        ],\n         [   3.17994487,   18.4386684 , 2003.        ]]),\n  'vt_id': [16, 17, 18]},\n 5: {'FracNo': 7,\n  'Set': 'HMax',\n  'IPlusHalfLength': 1.58797205034083,\n  'IMinusHalfLength': 5.22534374390978,\n  'Number of points': 3,\n  'Dip': 1.01722196789785,\n  'IPlusTipType': 'Intersection',\n  'IMinusTipType': 'Intersection',\n  'IPlusTerminatingFracture': 4,\n  'IMinusTerminatingFracture': 2,\n  'Nucleation time (ma)': 0.574672640755578,\n  'Coords': array([[  14.56597725,   11.62535261, 2003.        ],\n         [  14.56597725,   16.85069635, 2003.        ],\n         [  14.56597725,   18.4386684 , 2003.        ]]),\n  'vt_id': [19, 20, 21]},\n 6: {'FracNo': 9,\n  'Set': 'HMax',\n  'IPlusHalfLength': 0.0511317420988942,\n  'IMinusHalfLength': 3.50619767955793,\n  'Number of points': 3,\n  'Dip': 1.01722196789785,\n  'IPlusTipType': 'Intersection',\n  'IMinusTipType': 'OutOfBounds',\n  'IPlusTerminatingFracture': 3,\n  'IMinusTerminatingFracture': 0,\n  'Nucleation time (ma)': 0.574753377692048,\n  'Coords': array([[  15.84730851,    0.        , 2003.        ],\n         [  15.84730851,    3.50619768, 2003.        ],\n         [  15.84730851,    3.55732942, 2003.        ]]),\n  'vt_id': [22, 23, 24]},\n 7: {'FracNo': 8,\n  'Set': 'HMax',\n  'IPlusHalfLength': 0.740961935716198,\n  'IMinusHalfLength': 2.27310997074149,\n  'Number of points': 3,\n  'Dip': 1.01722196789785,\n  'IPlusTipType': 'StressShadow',\n  'IMinusTipType': 'Intersection',\n  'IPlusTerminatingFracture': 1,\n  'IMinusTerminatingFracture': 2,\n  'Nucleation time (ma)': 0.574730592736459,\n  'Coords': array([[  10.12105976,   11.62535261, 2003.        ],\n         [  10.12105976,   13.89846258, 2003.        ],\n         [  10.12105976,   14.63942451, 2003.        ]]),\n  'vt_id': [25, 26, 27]}}"
     },
     "execution_count": 11,
     "metadata": {},
     "output_type": "execute_result"
    }
   ],
   "source": [
    "fracture_db"
   ],
   "metadata": {
    "collapsed": false,
    "pycharm": {
     "name": "#%%\n"
    }
   }
  },
  {
   "cell_type": "code",
   "execution_count": 12,
   "outputs": [],
   "source": [
    "\n",
    "class Vertex:\n",
    "    \"\"\"\n",
    "    Class to host a single vertex that sits within a fracture network\n",
    "    \"\"\"\n",
    "    def __init__(self, vt_id, vt_coords, fracture_membership):\n",
    "        self.vt_id = vt_id\n",
    "        self.name = 'vt'+str(self.vt_id)\n",
    "        self.coords = vt_coords\n",
    "        self.fracture_membership = fracture_membership\n",
    "        self.vt_position = \"centrepoints\"\n",
    "\n",
    "    def __str__(self):\n",
    "        return str(self.name) + \" \" + str(self.coords) + \" Member of: \" + str(self.fracture_membership)\n",
    "\n",
    "    def __repr__(self):\n",
    "        return self.__dict__"
   ],
   "metadata": {
    "collapsed": false,
    "pycharm": {
     "name": "#%%\n"
    }
   }
  },
  {
   "cell_type": "code",
   "execution_count": 13,
   "outputs": [
    {
     "name": "stdout",
     "output_type": "stream",
     "text": [
      "vt0 [-4.05685508e-18  1.16253526e+01  2.00300000e+03] Member of: 2\n",
      "vt1 [   4.54951192   11.62535261 2003.        ] Member of: 2\n",
      "vt2 [  10.           11.62535261 2003.        ] Member of: 2\n",
      "vt3 [  20.           11.62535261 2003.        ] Member of: 2\n",
      "vt4 [4.22819431e-18 3.55732942e+00 2.00300000e+03] Member of: 3\n",
      "vt5 [  10.            3.55732942 2003.        ] Member of: 3\n",
      "vt6 [  18.99804455    3.55732942 2003.        ] Member of: 3\n",
      "vt7 [  20.            3.55732942 2003.        ] Member of: 3\n",
      "vt8 [-1.87824993e-17  1.84386684e+01  2.00300000e+03] Member of: 4\n",
      "vt9 [  10.          18.4386684 2003.       ] Member of: 4\n",
      "vt10 [  14.46604807   18.4386684  2003.        ] Member of: 4\n",
      "vt11 [  20.          18.4386684 2003.       ] Member of: 4\n",
      "vt12 [   5.21680651    3.55732942 2003.        ] Member of: 6\n",
      "vt13 [   5.21680651    5.00242168 2003.        ] Member of: 6\n",
      "vt14 [   5.21680651   10.         2003.        ] Member of: 6\n",
      "vt15 [   5.21680651   11.62535261 2003.        ] Member of: 6\n",
      "vt16 [   3.17994487   11.62535261 2003.        ] Member of: 5\n",
      "vt17 [   3.17994487   18.04994202 2003.        ] Member of: 5\n",
      "vt18 [   3.17994487   18.4386684  2003.        ] Member of: 5\n",
      "vt19 [  14.56597725   11.62535261 2003.        ] Member of: 7\n",
      "vt20 [  14.56597725   16.85069635 2003.        ] Member of: 7\n",
      "vt21 [  14.56597725   18.4386684  2003.        ] Member of: 7\n",
      "vt22 [  15.84730851    0.         2003.        ] Member of: 9\n",
      "vt23 [  15.84730851    3.50619768 2003.        ] Member of: 9\n",
      "vt24 [  15.84730851    3.55732942 2003.        ] Member of: 9\n",
      "vt25 [  10.12105976   11.62535261 2003.        ] Member of: 8\n",
      "vt26 [  10.12105976   13.89846258 2003.        ] Member of: 8\n",
      "vt27 [  10.12105976   14.63942451 2003.        ] Member of: 8\n"
     ]
    }
   ],
   "source": [
    "vertex_list = []\n",
    "\n",
    "for key in fracture_db.keys():\n",
    "    pt_id = fracture_db[key]['vt_id']\n",
    "    coords = fracture_db[key]['Coords']\n",
    "    frac_number = fracture_db[key]['FracNo']\n",
    "    for pt in range(len(pt_id)):\n",
    "        vtx = Vertex(pt_id[pt], coords[pt], frac_number)\n",
    "        print(vtx)\n",
    "        vertex_list.append(vtx)"
   ],
   "metadata": {
    "collapsed": false,
    "pycharm": {
     "name": "#%%\n"
    }
   }
  },
  {
   "cell_type": "code",
   "execution_count": 14,
   "outputs": [
    {
     "name": "stdout",
     "output_type": "stream",
     "text": [
      "{'vt_id': 0, 'name': 'vt0', 'coords': array([-4.05685508e-18,  1.16253526e+01,  2.00300000e+03]), 'fracture_membership': 2, 'vt_position': 'centrepoints'}\n",
      "{'vt_id': 1, 'name': 'vt1', 'coords': array([   4.54951192,   11.62535261, 2003.        ]), 'fracture_membership': 2, 'vt_position': 'centrepoints'}\n",
      "{'vt_id': 2, 'name': 'vt2', 'coords': array([  10.        ,   11.62535261, 2003.        ]), 'fracture_membership': 2, 'vt_position': 'centrepoints'}\n",
      "{'vt_id': 3, 'name': 'vt3', 'coords': array([  20.        ,   11.62535261, 2003.        ]), 'fracture_membership': 2, 'vt_position': 'centrepoints'}\n",
      "{'vt_id': 4, 'name': 'vt4', 'coords': array([4.22819431e-18, 3.55732942e+00, 2.00300000e+03]), 'fracture_membership': 3, 'vt_position': 'centrepoints'}\n",
      "{'vt_id': 5, 'name': 'vt5', 'coords': array([  10.        ,    3.55732942, 2003.        ]), 'fracture_membership': 3, 'vt_position': 'centrepoints'}\n",
      "{'vt_id': 6, 'name': 'vt6', 'coords': array([  18.99804455,    3.55732942, 2003.        ]), 'fracture_membership': 3, 'vt_position': 'centrepoints'}\n",
      "{'vt_id': 7, 'name': 'vt7', 'coords': array([  20.        ,    3.55732942, 2003.        ]), 'fracture_membership': 3, 'vt_position': 'centrepoints'}\n",
      "{'vt_id': 8, 'name': 'vt8', 'coords': array([-1.87824993e-17,  1.84386684e+01,  2.00300000e+03]), 'fracture_membership': 4, 'vt_position': 'centrepoints'}\n",
      "{'vt_id': 9, 'name': 'vt9', 'coords': array([  10.       ,   18.4386684, 2003.       ]), 'fracture_membership': 4, 'vt_position': 'centrepoints'}\n",
      "{'vt_id': 10, 'name': 'vt10', 'coords': array([  14.46604807,   18.4386684 , 2003.        ]), 'fracture_membership': 4, 'vt_position': 'centrepoints'}\n",
      "{'vt_id': 11, 'name': 'vt11', 'coords': array([  20.       ,   18.4386684, 2003.       ]), 'fracture_membership': 4, 'vt_position': 'centrepoints'}\n",
      "{'vt_id': 12, 'name': 'vt12', 'coords': array([   5.21680651,    3.55732942, 2003.        ]), 'fracture_membership': 6, 'vt_position': 'centrepoints'}\n",
      "{'vt_id': 13, 'name': 'vt13', 'coords': array([   5.21680651,    5.00242168, 2003.        ]), 'fracture_membership': 6, 'vt_position': 'centrepoints'}\n",
      "{'vt_id': 14, 'name': 'vt14', 'coords': array([   5.21680651,   10.        , 2003.        ]), 'fracture_membership': 6, 'vt_position': 'centrepoints'}\n",
      "{'vt_id': 15, 'name': 'vt15', 'coords': array([   5.21680651,   11.62535261, 2003.        ]), 'fracture_membership': 6, 'vt_position': 'centrepoints'}\n",
      "{'vt_id': 16, 'name': 'vt16', 'coords': array([   3.17994487,   11.62535261, 2003.        ]), 'fracture_membership': 5, 'vt_position': 'centrepoints'}\n",
      "{'vt_id': 17, 'name': 'vt17', 'coords': array([   3.17994487,   18.04994202, 2003.        ]), 'fracture_membership': 5, 'vt_position': 'centrepoints'}\n",
      "{'vt_id': 18, 'name': 'vt18', 'coords': array([   3.17994487,   18.4386684 , 2003.        ]), 'fracture_membership': 5, 'vt_position': 'centrepoints'}\n",
      "{'vt_id': 19, 'name': 'vt19', 'coords': array([  14.56597725,   11.62535261, 2003.        ]), 'fracture_membership': 7, 'vt_position': 'centrepoints'}\n",
      "{'vt_id': 20, 'name': 'vt20', 'coords': array([  14.56597725,   16.85069635, 2003.        ]), 'fracture_membership': 7, 'vt_position': 'centrepoints'}\n",
      "{'vt_id': 21, 'name': 'vt21', 'coords': array([  14.56597725,   18.4386684 , 2003.        ]), 'fracture_membership': 7, 'vt_position': 'centrepoints'}\n",
      "{'vt_id': 22, 'name': 'vt22', 'coords': array([  15.84730851,    0.        , 2003.        ]), 'fracture_membership': 9, 'vt_position': 'centrepoints'}\n",
      "{'vt_id': 23, 'name': 'vt23', 'coords': array([  15.84730851,    3.50619768, 2003.        ]), 'fracture_membership': 9, 'vt_position': 'centrepoints'}\n",
      "{'vt_id': 24, 'name': 'vt24', 'coords': array([  15.84730851,    3.55732942, 2003.        ]), 'fracture_membership': 9, 'vt_position': 'centrepoints'}\n",
      "{'vt_id': 25, 'name': 'vt25', 'coords': array([  10.12105976,   11.62535261, 2003.        ]), 'fracture_membership': 8, 'vt_position': 'centrepoints'}\n",
      "{'vt_id': 26, 'name': 'vt26', 'coords': array([  10.12105976,   13.89846258, 2003.        ]), 'fracture_membership': 8, 'vt_position': 'centrepoints'}\n",
      "{'vt_id': 27, 'name': 'vt27', 'coords': array([  10.12105976,   14.63942451, 2003.        ]), 'fracture_membership': 8, 'vt_position': 'centrepoints'}\n"
     ]
    }
   ],
   "source": [
    "\n",
    "for i in vertex_list:\n",
    "    print(i.__repr__())\n"
   ],
   "metadata": {
    "collapsed": false,
    "pycharm": {
     "name": "#%%\n"
    }
   }
  },
  {
   "cell_type": "code",
   "execution_count": 15,
   "outputs": [
    {
     "data": {
      "text/plain": "<Figure size 432x288 with 1 Axes>",
      "image/png": "[encoded data removed]"
     },
     "metadata": {
      "needs_background": "light"
     },
     "output_type": "display_data"
    }
   ],
   "source": [
    "for i in vertex_list:\n",
    "    plt.scatter(i.coords[0], i.coords[1])\n",
    "\n",
    "for key in fracture_db.keys():\n",
    "    x = fracture_db[key]['Coords'][:,0]\n",
    "    y = fracture_db[key]['Coords'][:,1]\n",
    "    plt.plot(x, y)\n",
    "    for i in range(len(x)):\n",
    "        plt.plot(x[i], y[i], 'x')\n",
    "\n",
    "plt.show()\n"
   ],
   "metadata": {
    "collapsed": false,
    "pycharm": {
     "name": "#%%\n"
    }
   }
  },
  {
   "cell_type": "markdown",
   "source": [
    "Basic representation of points as vertices acheived\n",
    "\n",
    "Now need to associate the vertices with fractures and"
   ],
   "metadata": {
    "collapsed": false,
    "pycharm": {
     "name": "#%% md\n"
    }
   }
  },
  {
   "cell_type": "code",
   "execution_count": 16,
   "outputs": [
    {
     "name": "stdout",
     "output_type": "stream",
     "text": [
      "2\n",
      "3\n",
      "6\n"
     ]
    },
    {
     "data": {
      "text/plain": "<Figure size 432x288 with 1 Axes>",
      "image/png": "[encoded data removed]"
     },
     "metadata": {
      "needs_background": "light"
     },
     "output_type": "display_data"
    }
   ],
   "source": [
    "for i in vertex_list:\n",
    "    if i.fracture_membership == (2 or 3 or 6):\n",
    "        plt.scatter(i.coords[0], i.coords[1])\n",
    "\n",
    "for key in fracture_db.keys():\n",
    "    if fracture_db[key]['FracNo'] == 2 or fracture_db[key]['FracNo'] == 3 or fracture_db[key]['FracNo'] == 6:\n",
    "        print(fracture_db[key]['FracNo'])\n",
    "        x = fracture_db[key]['Coords'][:,0]\n",
    "        y = fracture_db[key]['Coords'][:,1]\n",
    "        plt.plot(x, y)\n",
    "        for i in range(len(x)):\n",
    "            plt.plot(x[i], y[i], 'x')\n",
    "\n",
    "plt.show()"
   ],
   "metadata": {
    "collapsed": false,
    "pycharm": {
     "name": "#%%\n"
    }
   }
  },
  {
   "cell_type": "markdown",
   "source": [
    "Reviewing individual fractures, vertices are located along the edges.\n",
    "\n",
    "Fractures do not include the vertex of the truncated fracture.\n",
    "\n",
    "When we insert we need to preserve a record of the relationship between fractures and also the type of connection.\n",
    "This must differentiate between intersections and stress shadows (relays).\n",
    "\n",
    "\n",
    "Later, will need to also check for duplicate or 'isclose' points in the grid."
   ],
   "metadata": {
    "collapsed": false,
    "pycharm": {
     "name": "#%% md\n"
    }
   }
  },
  {
   "cell_type": "code",
   "execution_count": 17,
   "outputs": [],
   "source": [
    "# Add a list of fracture vertices to the individual fractures\n",
    "\n",
    "# for each fracture compile a list of edges defined by their vertices, ordered from one end to the other\n",
    "\n",
    "for key in fracture_db.keys():\n",
    "    pt_id = fracture_db[key]['vt_id']\n",
    "    coords = fracture_db[key]['Coords']\n",
    "    frac_number = fracture_db[key]['FracNo']"
   ],
   "metadata": {
    "collapsed": false,
    "pycharm": {
     "name": "#%%\n"
    }
   }
  },
  {
   "cell_type": "code",
   "execution_count": 18,
   "outputs": [
    {
     "name": "stdout",
     "output_type": "stream",
     "text": [
      "{2: 0, 3: 1, 4: 2, 6: 3, 5: 4, 7: 5, 9: 6, 8: 7}\n"
     ]
    }
   ],
   "source": [
    "frac_key_lup = dict()\n",
    "\n",
    "for key in fracture_db.keys():\n",
    "    frac_key_lup[fracture_db[key]['FracNo']] = key\n",
    "\n",
    "print(frac_key_lup)\n",
    "\n",
    "# identify fracture vertex that requires insertion\n",
    "\n",
    "tip_types = {\n",
    "    'OutOfBounds': 'boundary',\n",
    "    'Intersection': 'truncation',\n",
    "    'StressShadow': 'relay'\n",
    "}"
   ],
   "metadata": {
    "collapsed": false,
    "pycharm": {
     "name": "#%%\n"
    }
   }
  },
  {
   "cell_type": "code",
   "execution_count": 20,
   "outputs": [],
   "source": [
    "# identify fracture tips and their types\n",
    "for key in fracture_db.keys():\n",
    "    if fracture_db[key]['IPlusTipType'] == 'OutOfBounds':\n",
    "        pass\n",
    "    elif fracture_db[key]['IPlusTipType'] == 'Intersection':\n",
    "        link_frac_ip = fracture_db[key]['IPlusTerminatingFracture']\n",
    "        link_type_ip = tip_types[fracture_db[key]['IPlusTipType']]\n",
    "    elif fracture_db[key]['IPlusTipType'] == 'StressShadow':\n",
    "        link_frac_ip = fracture_db[key]['IPlusTerminatingFracture']\n",
    "        link_type_ip = tip_types[fracture_db[key]['IPlusTipType']]\n",
    "    else:\n",
    "        print('unknown fracture link type')\n",
    "\n",
    "    if fracture_db[key]['IMinusTipType'] == 'OutOfBounds':\n",
    "        pass\n",
    "    elif fracture_db[key]['IMinusTipType'] == 'Intersection':\n",
    "        link_frac_im = fracture_db[key]['IMinusTerminatingFracture']\n",
    "        link_type_im = tip_types[fracture_db[key]['IMinusTipType']]\n",
    "    elif fracture_db[key]['IMinusTipType'] == 'StressShadow':\n",
    "        link_frac_im = fracture_db[key]['IMinusTerminatingFracture']\n",
    "        link_type_im = tip_types[fracture_db[key]['IMinusTipType']]\n",
    "    else:\n",
    "        print('unknown fracture link type')\n",
    "\n",
    "    # insert coordinates into main fractures\n",
    "\n",
    "    # look up truncating fracture\n",
    "\n",
    "\n",
    "\n",
    "    # if fracture_db[key]['IMinusTipType'] =\n",
    "\n",
    "\n",
    "# insert vt_id from truncated fracture into another fracture"
   ],
   "metadata": {
    "collapsed": false,
    "pycharm": {
     "name": "#%%\n"
    }
   }
  },
  {
   "cell_type": "code",
   "execution_count": null,
   "outputs": [],
   "source": [
    "fracture_db.keys()"
   ],
   "metadata": {
    "collapsed": false,
    "pycharm": {
     "name": "#%%\n"
    }
   }
  }
 ],
 "metadata": {
  "kernelspec": {
   "name": "pycharm-5c487bad",
   "language": "python",
   "display_name": "PyCharm (geoseer)"
  },
  "language_info": {
   "codemirror_mode": {
    "name": "ipython",
    "version": 2
   },
   "file_extension": ".py",
   "mimetype": "text/x-python",
   "name": "python",
   "nbconvert_exporter": "python",
   "pygments_lexer": "ipython2",
   "version": "2.7.6"
  }
 },
 "nbformat": 4,
 "nbformat_minor": 0
}