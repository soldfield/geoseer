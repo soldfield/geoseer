{
 "cells": [
  {
   "cell_type": "markdown",
   "source": [
    "\n",
    "## Import DFN data"
   ],
   "metadata": {
    "collapsed": false,
    "pycharm": {
     "name": "#%% md\n"
    }
   }
  },
  {
   "cell_type": "code",
   "execution_count": 1,
   "outputs": [
    {
     "name": "stdout",
     "output_type": "stream",
     "text": [
      "['FracNo\\tSet\\tIPlusHalfLength\\tIMinusHalfLength\\tNumber of points\\tDip\\tIPlusTipType\\tIMinusTipType\\tIPlusTerminatingFracture\\tIMinusTerminatingFracture\\tNucleation time (ma)\\t\\n', '2\\tHMin\\t15.4504880753581\\t4.54951192464191\\t4\\t1.01722196789785\\tOutOfBounds\\tOutOfBounds\\t0\\t0\\t0.143460104322922\\t\\n', 'Start Points\\n', '-4.05685508126982E-18\\t11.6253526050715\\t2003\\t\\n', '4.54951192464191\\t11.6253526050715\\t2003\\t\\n', '10\\t11.6253526050715\\t2003\\t\\n', '20\\t11.6253526050715\\t2003\\t\\n', 'End Points\\n', '3\\tHMin\\t1.00195544818507\\t18.9980445518149\\t4\\t1.01722196789785\\tOutOfBounds\\tOutOfBounds\\t0\\t0\\t0.143623295774694\\t\\n', 'Start Points\\n', '4.22819430501985E-18\\t3.55732942165682\\t2003\\t\\n', '10\\t3.55732942165682\\t2003\\t\\n', '18.9980445518149\\t3.55732942165683\\t2003\\t\\n', '20\\t3.55732942165683\\t2003\\t\\n', 'End Points\\n', '4\\tHMin\\t5.53395193327868\\t14.4660480667213\\t4\\t1.01722196789785\\tOutOfBounds\\tOutOfBounds\\t0\\t0\\t0.143668673080659\\t\\n', 'Start Points\\n', '-1.87824992665333E-17\\t18.4386683993222\\t2003\\t\\n', '10\\t18.4386683993222\\t2003\\t\\n', '14.4660480667213\\t18.4386683993222\\t2003\\t\\n', '20\\t18.4386683993222\\t2003\\t\\n', 'End Points\\n', '6\\tHMax\\t6.62293092190424\\t1.44509226151048\\t4\\t1.01722196789785\\tIntersection\\tIntersection\\t2\\t3\\t0.573851076308996\\t\\n', 'Start Points\\n', '5.21680651475527\\t3.55732942165682\\t2003\\t\\n', '5.21680651475527\\t5.0024216831673\\t2003\\t\\n', '5.21680651475527\\t10\\t2003\\t\\n', '5.21680651475527\\t11.6253526050715\\t2003\\t\\n', 'End Points\\n', '5\\tHMax\\t0.388726382697339\\t6.42458941155327\\t3\\t1.01722196789785\\tIntersection\\tIntersection\\t4\\t2\\t0.573748697052611\\t\\n', 'Start Points\\n', '3.17994487154295\\t11.6253526050715\\t2003\\t\\n', '3.17994487154295\\t18.0499420166248\\t2003\\t\\n', '3.17994487154295\\t18.4386683993222\\t2003\\t\\n', 'End Points\\n', '7\\tHMax\\t1.58797205034083\\t5.22534374390978\\t3\\t1.01722196789785\\tIntersection\\tIntersection\\t4\\t2\\t0.574672640755578\\t\\n', 'Start Points\\n', '14.5659772514207\\t11.6253526050715\\t2003\\t\\n', '14.5659772514207\\t16.8506963489813\\t2003\\t\\n', '14.5659772514207\\t18.4386683993222\\t2003\\t\\n', 'End Points\\n', '9\\tHMax\\t0.0511317420988942\\t3.50619767955793\\t3\\t1.01722196789785\\tIntersection\\tOutOfBounds\\t3\\t0\\t0.574753377692048\\t\\n', 'Start Points\\n', '15.847308512706\\t0\\t2003\\t\\n', '15.847308512706\\t3.50619767955793\\t2003\\t\\n', '15.847308512706\\t3.55732942165682\\t2003\\t\\n', 'End Points\\n', '8\\tHMax\\t0.740961935716198\\t2.27310997074149\\t3\\t1.01722196789785\\tStressShadow\\tIntersection\\t1\\t2\\t0.574730592736459\\t\\n', 'Start Points\\n', '10.1210597577137\\t11.6253526050715\\t2003\\t\\n', '10.1210597577137\\t13.898462575813\\t2003\\t\\n', '10.1210597577137\\t14.6394245115292\\t2003\\t\\n', 'End Points\\n']\n"
     ]
    }
   ],
   "source": [
    "import hashlib\n",
    "#md5_hash = hashlib.md5()\n",
    "\n",
    "# MFCentrepoints_final.txt\n",
    "root = \"C:\\\\Users\\\\simold\\\\Documents\\\\git\\\\geoseer\\\\data\\\\DFNGEN\\\\\"\n",
    "fn = \"MFCentrepoints_final.txt\"\n",
    "\n",
    "\n",
    "file = root+fn\n",
    "\n",
    "with open(file) as f:\n",
    "    #f_data = f.read()\n",
    "    #file_hash = hashlib.md5(f_data.encode())\n",
    "    f_data = f.readlines()\n",
    "\n",
    "#print(file_hash.hexdigest())\n",
    "\n",
    "hdrs = ['FracNo',\n",
    "        'Set',\n",
    "        'IPlusHalfLength',\n",
    "        'IMinusHalfLength',\n",
    "        'Number of points',\n",
    "        'Dip',\n",
    "        'IPlusTipType',\n",
    "        'IMinusTipType',\n",
    "        'IPlusTerminatingFracture',\n",
    "        'IMinusTerminatingFracture',\n",
    "        'Nucleation time (ma)'\n",
    "        ]\n",
    "\n",
    "start_rec = \"Start Points\"\n",
    "end_rec = \"End Points\"\n",
    "\n",
    "\n",
    "print(f_data)"
   ],
   "metadata": {
    "collapsed": false,
    "pycharm": {
     "name": "#%%\n"
    }
   }
  },
  {
   "cell_type": "code",
   "execution_count": 2,
   "outputs": [
    {
     "name": "stdout",
     "output_type": "stream",
     "text": [
      "53\n"
     ]
    }
   ],
   "source": [
    "print(len(f_data))\n",
    "\n",
    "fxls = []\n",
    "\n",
    "for line in f_data:\n",
    "    line = line.strip().split('\\t')\n",
    "    fxls.append(line)\n",
    "\n"
   ],
   "metadata": {
    "collapsed": false,
    "pycharm": {
     "name": "#%%\n"
    }
   }
  },
  {
   "cell_type": "code",
   "execution_count": 4,
   "outputs": [
    {
     "name": "stdout",
     "output_type": "stream",
     "text": [
      "['FracNo', 'Set', 'IPlusHalfLength', 'IMinusHalfLength', 'Number of points', 'Dip', 'IPlusTipType', 'IMinusTipType', 'IPlusTerminatingFracture', 'IMinusTerminatingFracture', 'Nucleation time (ma)']\n"
     ]
    }
   ],
   "source": [
    "hdr = fxls[0]\n",
    "\n",
    "fx_db = []\n",
    "\n",
    "print(hdr)"
   ],
   "metadata": {
    "collapsed": false,
    "pycharm": {
     "name": "#%%\n"
    }
   }
  },
  {
   "cell_type": "markdown",
   "source": [
    "Bring in individual fracture records and develop a database."
   ],
   "metadata": {
    "collapsed": false,
    "pycharm": {
     "name": "#%% md\n"
    }
   }
  },
  {
   "cell_type": "code",
   "execution_count": 65,
   "outputs": [
    {
     "data": {
      "text/plain": "{0: {'FracNo': '2',\n  'Set': 'HMin',\n  'IPlusHalfLength': '15.4504880753581',\n  'IMinusHalfLength': '4.54951192464191',\n  'Number of points': '4',\n  'Dip': '1.01722196789785',\n  'IPlusTipType': 'OutOfBounds',\n  'IMinusTipType': 'OutOfBounds',\n  'IPlusTerminatingFracture': '0',\n  'IMinusTerminatingFracture': '0',\n  'Nucleation time (ma)': '0.143460104322922',\n  'Vertices': [['-4.05685508126982E-18', '11.6253526050715', '2003'],\n   ['4.54951192464191', '11.6253526050715', '2003'],\n   ['10', '11.6253526050715', '2003'],\n   ['20', '11.6253526050715', '2003']]},\n 1: {'FracNo': '3',\n  'Set': 'HMin',\n  'IPlusHalfLength': '1.00195544818507',\n  'IMinusHalfLength': '18.9980445518149',\n  'Number of points': '4',\n  'Dip': '1.01722196789785',\n  'IPlusTipType': 'OutOfBounds',\n  'IMinusTipType': 'OutOfBounds',\n  'IPlusTerminatingFracture': '0',\n  'IMinusTerminatingFracture': '0',\n  'Nucleation time (ma)': '0.143623295774694',\n  'Vertices': [['4.22819430501985E-18', '3.55732942165682', '2003'],\n   ['10', '3.55732942165682', '2003'],\n   ['18.9980445518149', '3.55732942165683', '2003'],\n   ['20', '3.55732942165683', '2003']]},\n 2: {'FracNo': '4',\n  'Set': 'HMin',\n  'IPlusHalfLength': '5.53395193327868',\n  'IMinusHalfLength': '14.4660480667213',\n  'Number of points': '4',\n  'Dip': '1.01722196789785',\n  'IPlusTipType': 'OutOfBounds',\n  'IMinusTipType': 'OutOfBounds',\n  'IPlusTerminatingFracture': '0',\n  'IMinusTerminatingFracture': '0',\n  'Nucleation time (ma)': '0.143668673080659',\n  'Vertices': [['-1.87824992665333E-17', '18.4386683993222', '2003'],\n   ['10', '18.4386683993222', '2003'],\n   ['14.4660480667213', '18.4386683993222', '2003'],\n   ['20', '18.4386683993222', '2003']]},\n 3: {'FracNo': '6',\n  'Set': 'HMax',\n  'IPlusHalfLength': '6.62293092190424',\n  'IMinusHalfLength': '1.44509226151048',\n  'Number of points': '4',\n  'Dip': '1.01722196789785',\n  'IPlusTipType': 'Intersection',\n  'IMinusTipType': 'Intersection',\n  'IPlusTerminatingFracture': '2',\n  'IMinusTerminatingFracture': '3',\n  'Nucleation time (ma)': '0.573851076308996',\n  'Vertices': [['5.21680651475527', '3.55732942165682', '2003'],\n   ['5.21680651475527', '5.0024216831673', '2003'],\n   ['5.21680651475527', '10', '2003'],\n   ['5.21680651475527', '11.6253526050715', '2003']]},\n 4: {'FracNo': '5',\n  'Set': 'HMax',\n  'IPlusHalfLength': '0.388726382697339',\n  'IMinusHalfLength': '6.42458941155327',\n  'Number of points': '3',\n  'Dip': '1.01722196789785',\n  'IPlusTipType': 'Intersection',\n  'IMinusTipType': 'Intersection',\n  'IPlusTerminatingFracture': '4',\n  'IMinusTerminatingFracture': '2',\n  'Nucleation time (ma)': '0.573748697052611',\n  'Vertices': [['3.17994487154295', '11.6253526050715', '2003'],\n   ['3.17994487154295', '18.0499420166248', '2003'],\n   ['3.17994487154295', '18.4386683993222', '2003']]},\n 5: {'FracNo': '7',\n  'Set': 'HMax',\n  'IPlusHalfLength': '1.58797205034083',\n  'IMinusHalfLength': '5.22534374390978',\n  'Number of points': '3',\n  'Dip': '1.01722196789785',\n  'IPlusTipType': 'Intersection',\n  'IMinusTipType': 'Intersection',\n  'IPlusTerminatingFracture': '4',\n  'IMinusTerminatingFracture': '2',\n  'Nucleation time (ma)': '0.574672640755578',\n  'Vertices': [['14.5659772514207', '11.6253526050715', '2003'],\n   ['14.5659772514207', '16.8506963489813', '2003'],\n   ['14.5659772514207', '18.4386683993222', '2003']]},\n 6: {'FracNo': '9',\n  'Set': 'HMax',\n  'IPlusHalfLength': '0.0511317420988942',\n  'IMinusHalfLength': '3.50619767955793',\n  'Number of points': '3',\n  'Dip': '1.01722196789785',\n  'IPlusTipType': 'Intersection',\n  'IMinusTipType': 'OutOfBounds',\n  'IPlusTerminatingFracture': '3',\n  'IMinusTerminatingFracture': '0',\n  'Nucleation time (ma)': '0.574753377692048',\n  'Vertices': [['15.847308512706', '0', '2003'],\n   ['15.847308512706', '3.50619767955793', '2003'],\n   ['15.847308512706', '3.55732942165682', '2003']]},\n 7: {'FracNo': '8',\n  'Set': 'HMax',\n  'IPlusHalfLength': '0.740961935716198',\n  'IMinusHalfLength': '2.27310997074149',\n  'Number of points': '3',\n  'Dip': '1.01722196789785',\n  'IPlusTipType': 'StressShadow',\n  'IMinusTipType': 'Intersection',\n  'IPlusTerminatingFracture': '1',\n  'IMinusTerminatingFracture': '2',\n  'Nucleation time (ma)': '0.574730592736459',\n  'Vertices': [['10.1210597577137', '11.6253526050715', '2003'],\n   ['10.1210597577137', '13.898462575813', '2003'],\n   ['10.1210597577137', '14.6394245115292', '2003']]}}"
     },
     "execution_count": 65,
     "metadata": {},
     "output_type": "execute_result"
    }
   ],
   "source": [
    "#import hashlib\n",
    "\n",
    "\n",
    "def read_datafile(file):\n",
    "    \"\"\"\n",
    "    Open and read data from a tab-deliminated ascii file, strip and split on line endings and tabs.\n",
    "    Return list of lines.\n",
    "    :param file:\n",
    "    :return:\n",
    "    \"\"\"\n",
    "    with open(file) as f:\n",
    "    #f_data = f.read()\n",
    "    #file_hash = hashlib.md5(f_data.encode())\n",
    "        file_data = f.readlines()\n",
    "\n",
    "    # import file lines\n",
    "    read_data = []\n",
    "\n",
    "    for line in file_data:\n",
    "        line = line.strip().split('\\t')\n",
    "        read_data.append(line)\n",
    "    return read_data\n",
    "\n",
    "def import_macrofractures(file, fx_rep='centreline'):\n",
    "    \"\"\"\n",
    "    Function to import fracture data from output from the DFN Generator in either centreline or polygon format\n",
    "    :return: database of fractures\n",
    "    \"\"\"\n",
    "    read_data = read_datafile(file)\n",
    "\n",
    "    # build dataset\n",
    "    hdr = read_data[0]\n",
    "    len_hdr = len(hdr)\n",
    "\n",
    "    fracture_db = dict()\n",
    "    fracture_counter = 0\n",
    "\n",
    "    for line in read_data[1:]:\n",
    "        if len(line) == len_hdr:\n",
    "            fracture_db[fracture_counter] = dict()\n",
    "            for hdr_col in range(len(hdr)):\n",
    "                fracture_db[fracture_counter][hdr[hdr_col]] = line[hdr_col]\n",
    "            fracture_db[fracture_counter]['Vertices'] = []\n",
    "            fracture_counter += 1\n",
    "        elif line == ['Start Points'] or line == ['End Points'] :\n",
    "            pass\n",
    "        else:\n",
    "            fracture_db[fracture_counter-1]['Vertices'].append(line)\n",
    "            #fracture_db[fracture_counter]['Vertices'] = line\n",
    "\n",
    "    return fracture_db\n",
    "\n",
    "fracture_db = import_macrofractures(file, fx_rep='centreline')\n",
    "\n",
    "fracture_db\n",
    "\n",
    "\n"
   ],
   "metadata": {
    "collapsed": false,
    "pycharm": {
     "name": "#%%\n"
    }
   }
  }
 ],
 "metadata": {
  "kernelspec": {
   "name": "pycharm-5c487bad",
   "language": "python",
   "display_name": "PyCharm (geoseer)"
  },
  "language_info": {
   "codemirror_mode": {
    "name": "ipython",
    "version": 2
   },
   "file_extension": ".py",
   "mimetype": "text/x-python",
   "name": "python",
   "nbconvert_exporter": "python",
   "pygments_lexer": "ipython2",
   "version": "2.7.6"
  }
 },
 "nbformat": 4,
 "nbformat_minor": 0
}